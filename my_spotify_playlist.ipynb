{
 "cells": [
  {
   "attachments": {},
   "cell_type": "markdown",
   "metadata": {},
   "source": [
    "<h1> <span style=\"color:#FFF9C1\">Create my own spotify playlist</span> "
   ]
  },
  {
   "attachments": {},
   "cell_type": "markdown",
   "metadata": {},
   "source": [
    "# <span style=\"color:#6FFFE9\">install spotipy</span> "
   ]
  },
  {
   "cell_type": "code",
   "execution_count": null,
   "metadata": {},
   "outputs": [],
   "source": [
    "# pip install spotipy"
   ]
  },
  {
   "attachments": {},
   "cell_type": "markdown",
   "metadata": {},
   "source": [
    "# <span style=\"color:#6FFFE9\">Authentication</span> "
   ]
  },
  {
   "cell_type": "code",
   "execution_count": 1,
   "metadata": {},
   "outputs": [],
   "source": [
    "# import libraries\n",
    "import spotipy\n",
    "from spotipy.oauth2 import SpotifyOAuth\n"
   ]
  },
  {
   "cell_type": "code",
   "execution_count": 2,
   "metadata": {},
   "outputs": [],
   "source": [
    "import os\n",
    "\n",
    "os.environ[\"SPOTIPY_CLIENT_ID\"] = \"your-spotify-client-id\"\n",
    "os.environ[\"SPOTIPY_CLIENT_SECRET\"] = \"your-spotify-client-secret\"\n",
    "os.environ[\"SPOTIPY_REDIRECT_URI\"] = \"your-app-redirect-url\"\n",
    "\n",
    "sp = spotipy.Spotify(\n",
    "    client_credentials_manager=SpotifyOAuth(scope=\"playlist-modify-public\")\n",
    "    ) "
   ]
  },
  {
   "cell_type": "code",
   "execution_count": 3,
   "metadata": {},
   "outputs": [
    {
     "data": {
      "text/plain": [
       "'your-spotify-client-id'"
      ]
     },
     "execution_count": 3,
     "metadata": {},
     "output_type": "execute_result"
    }
   ],
   "source": [
    "os.environ.get(\"SPOTIPY_CLIENT_ID\")"
   ]
  },
  {
   "cell_type": "code",
   "execution_count": 21,
   "metadata": {},
   "outputs": [],
   "source": [
    "sp = spotipy.Spotify(client_credentials_manager=SpotifyOAuth(\n",
    "                     client_id=\"your-spotify-client-id\", \n",
    "                     client_secret=\"your-spotify-client-secret\",\n",
    "                     redirect_uri=\"your-app-redirect-url\",\n",
    "                     scope=\"playlist-modify-public\"\n",
    "                     )) \n"
   ]
  },
  {
   "cell_type": "code",
   "execution_count": null,
   "metadata": {},
   "outputs": [],
   "source": [
    "sp.me()['id']\n"
   ]
  },
  {
   "cell_type": "code",
   "execution_count": 27,
   "metadata": {},
   "outputs": [],
   "source": [
    "user_id = sp.me()['id']\n",
    "\n",
    "playlist = sp.user_playlist_create(user_id, name=\"testing\")\n"
   ]
  },
  {
   "cell_type": "code",
   "execution_count": 28,
   "metadata": {},
   "outputs": [
    {
     "data": {
      "text/plain": [
       "{'snapshot_id': 'MiwzYWE2NDhiM2MzYWJjMTg4MzAwYjM4OWU3MjViNGEzZWFjMzllNGMy'}"
      ]
     },
     "execution_count": 28,
     "metadata": {},
     "output_type": "execute_result"
    }
   ],
   "source": [
    "track_uris = [\"spotify:track:6rqhFgbbKwnb9MLmUQDhG6\", \"spotify:track:3yfqSUWxFvZELEM4PmlwIR\"]\n",
    "sp.user_playlist_add_tracks(user=user_id, playlist_id=playlist[\"id\"], tracks=track_uris)"
   ]
  },
  {
   "cell_type": "code",
   "execution_count": 25,
   "metadata": {},
   "outputs": [],
   "source": [
    "sp.user_playlist_unfollow(user_id, \"7bmHlW1vY7NZOcxrdb7Tlz\")"
   ]
  },
  {
   "cell_type": "code",
   "execution_count": null,
   "metadata": {},
   "outputs": [],
   "source": [
    "sp.user_playlist_create"
   ]
  }
 ],
 "metadata": {
  "kernelspec": {
   "display_name": "Demo",
   "language": "python",
   "name": "python3"
  },
  "language_info": {
   "codemirror_mode": {
    "name": "ipython",
    "version": 3
   },
   "file_extension": ".py",
   "mimetype": "text/x-python",
   "name": "python",
   "nbconvert_exporter": "python",
   "pygments_lexer": "ipython3",
   "version": "3.9.15"
  },
  "orig_nbformat": 4
 },
 "nbformat": 4,
 "nbformat_minor": 2
}
